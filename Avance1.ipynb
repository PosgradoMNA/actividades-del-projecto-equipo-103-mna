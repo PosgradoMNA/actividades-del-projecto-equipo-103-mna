{
  "nbformat": 4,
  "nbformat_minor": 0,
  "metadata": {
    "colab": {
      "provenance": []
    },
    "kernelspec": {
      "name": "python3",
      "display_name": "Python 3"
    },
    "language_info": {
      "name": "python"
    }
  },
  "cells": [
    {
      "cell_type": "markdown",
      "source": [
        "#Proyecto Final- Avance 1"
      ],
      "metadata": {
        "id": "2TC7T0vFl-OY"
      }
    },
    {
      "cell_type": "markdown",
      "source": [
        "##Equipo 103 - MNA\n",
        "* Alejandra Ramírez Romano - A01793144\n",
        "* Sergio López Madriz - A01064725"
      ],
      "metadata": {
        "id": "4A7Sbw8wmEgr"
      }
    },
    {
      "cell_type": "markdown",
      "source": [
        "# Nombre del conjunto de datos\n",
        "\n",
        "**WHO Suicide Statistics**"
      ],
      "metadata": {
        "id": "q0WHZujQjc2H"
      }
    },
    {
      "cell_type": "markdown",
      "source": [
        "# Nombre de la organización que lo generó\n",
        "\n",
        "**World Health Organization (WHO)**"
      ],
      "metadata": {
        "id": "fapcEfjtkHI7"
      }
    },
    {
      "cell_type": "markdown",
      "source": [
        "#Enlace de internet:\n",
        "https://www.kaggle.com/datasets/szamil/who-suicide-statistics"
      ],
      "metadata": {
        "id": "3kf2R9ePlOHY"
      }
    },
    {
      "cell_type": "markdown",
      "source": [
        "#Descripción del conjunto de datos"
      ],
      "metadata": {
        "id": "1ZK-IlKzwlto"
      }
    },
    {
      "cell_type": "markdown",
      "source": [
        "El conjunto de datos consiste en 6 columnas con 43,776 registros. En seguida se enumeran los nombres de las columnas. \n",
        "\n",
        "1. Country (Str) : El tipo de dato es categórico nominal, en lista los países de los que tienen datos disponibles.\n",
        "2. Year (Int): El tipo de dato es numérico discreto, indica el año con el que se relacionan la cantidad de suicidios. \n",
        "3. Sex (Str): El tipo de dato es categórico nominal, define si es hombre o mujer.  \n",
        "4. Age  (Str): El tipo de dato es categórico ordinal, enlista los rangos de edades. \n",
        "5. Suicides_no (Int):El tipo de dato es numérico discreto, indica la cantidad de eventos de suicidio.\n",
        "6. Population (Int): El tipo de dato es numérico discreto, define la cantidad de población viva. \n"
      ],
      "metadata": {
        "id": "NTUyyEN-ldkD"
      }
    },
    {
      "cell_type": "markdown",
      "source": [
        "#Preguntas de investigación\n",
        "1. ¿Quiénes cometen más suicidios, los hombres o las mujeres?\n",
        "2. ¿Cuáles son los grupos de edades que tienen una tasa más alta de suicidios?\n",
        "3. ¿La frecuencia de suicidios ha incrementado o disminuido con relación al tiempo?\n",
        "4. ¿Cuáles son los países que tienen mayores tasas de suicidio?\n",
        "5. ¿Cuál es la correlación entre la población y la cantidad de suicidios?\n",
        "6. ¿En países vecinos, el comportamiento de suicidios es similar? \n",
        "7. ¿La tendencia de suicidios es más alta en países con temperaturas más bajas?\n",
        "8. ¿Qué efecto tuvo la crisis económica del 2008 en la tasa de suicidios?\n"
      ],
      "metadata": {
        "id": "zywALuQknMGQ"
      }
    },
    {
      "cell_type": "markdown",
      "source": [
        "\n",
        "#Posibles actores interesados en la investigación\n",
        "- WHO\n",
        "- Organizaciones civiles que apoyan a las personas en riesgo de suicidio\n",
        "- Profesionales del sector salud\n",
        "- Gobiernos de cada país \n"
      ],
      "metadata": {
        "id": "aHaGB9Ytud3c"
      }
    }
  ]
}